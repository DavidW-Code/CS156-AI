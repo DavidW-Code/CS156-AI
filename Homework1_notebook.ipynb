{
 "cells": [
  {
   "cell_type": "markdown",
   "metadata": {},
   "source": [
    "# <b>CS156 (Introduction to AI), Spring 2021</b>\n",
    "# <u><b>Homework 1 submission</b></u>"
   ]
  },
  {
   "cell_type": "markdown",
   "metadata": {},
   "source": [
    "### Roster Name: David Wang\n",
    "### Student ID: 012368967\n",
    "### Email address: davidwangdn@gmail.com\n"
   ]
  },
  {
   "cell_type": "markdown",
   "metadata": {},
   "source": [
    "##  <u>References and sources </u>"
   ]
  },
  {
   "cell_type": "markdown",
   "metadata": {},
   "source": [
    "List all your references and sources here.\n",
    "This includes all sites/discussion boards/blogs/posts/etc. where you grabbed some code examples."
   ]
  },
  {
   "cell_type": "markdown",
   "metadata": {},
   "source": [
    "##  <u>Solution</u>"
   ]
  },
  {
   "cell_type": "markdown",
   "metadata": {},
   "source": [
    "#### Load libraries and set random number generator seed"
   ]
  },
  {
   "cell_type": "code",
   "execution_count": 1,
   "metadata": {},
   "outputs": [],
   "source": [
    "import numpy as np\n",
    "import sys"
   ]
  },
  {
   "cell_type": "code",
   "execution_count": 2,
   "metadata": {},
   "outputs": [],
   "source": [
    "np.random.seed(42)"
   ]
  },
  {
   "cell_type": "markdown",
   "metadata": {},
   "source": [
    "#### Code the solution"
   ]
  },
  {
   "cell_type": "code",
   "execution_count": 3,
   "metadata": {},
   "outputs": [
    {
     "name": "stdout",
     "output_type": "stream",
     "text": [
      "-9.257305276562883e+17\n",
      "-3.7029221106251526e+17\n",
      "-1.4811688442500608e+17\n",
      "-5.924675377000243e+16\n",
      "-2.3698701508000972e+16\n",
      "-9479480603200388.0\n",
      "-3791792241280155.0\n",
      "-1516716896512062.0\n",
      "-606686758604825.0\n",
      "-242674703441930.2\n",
      "-97069881376772.28\n",
      "-38827952550709.1\n",
      "-15531181020283.836\n",
      "-6212472408113.734\n",
      "-2484988963245.6934\n",
      "-993995585298.4773\n",
      "-397598234119.59094\n",
      "-159039293648.03635\n",
      "-63615717459.414536\n",
      "-25446286983.965813\n",
      "-10178514793.786325\n",
      "-4071405917.714529\n",
      "-1628562367.2858114\n",
      "-651424947.1143246\n",
      "-260569979.04572982\n",
      "-104227991.81829193\n",
      "-41691196.92731676\n",
      "-16676478.970926702\n",
      "-6670591.78837068\n",
      "-2668236.915348272\n",
      "-1067294.9661393086\n",
      "-426918.18645572336\n",
      "-170767.47458228935\n",
      "-68307.18983291573\n",
      "-27323.075933166285\n",
      "-10929.430373266514\n",
      "-4371.972149306605\n",
      "-1748.9888597226422\n",
      "-699.7955438890567\n",
      "-280.11821755562266\n",
      "-112.24728702224905\n",
      "-45.09891480889962\n",
      "-18.239565923559848\n",
      "-7.4958263694239395\n",
      "-3.198330547769575\n",
      "-1.47933221910783\n",
      "-0.791732887643132\n",
      "-0.5166931550572528\n",
      "-0.4066772620229011\n",
      "-0.3626709048091604\n",
      "-0.3450683619236642\n",
      "-0.3380273447694657\n",
      "-0.3352109379077863\n",
      "-0.3340843751631145\n",
      "-0.3336337500652458\n",
      "-0.3334535000260983\n",
      "-0.3333814000104393\n",
      "-0.33335256000417574\n",
      "-0.3333410240016703\n",
      "-0.3333364096006681\n",
      "-0.3333345638402673\n",
      "-0.3333338255361069\n",
      "-0.3333335302144428\n",
      "-0.3333334120857771\n",
      "-0.33333336483431086\n",
      "-0.3333333459337243\n",
      "-0.3333333383734898\n",
      "-0.3333333353493959\n",
      "-0.33333333413975835\n",
      "-0.33333333365590334\n",
      "-0.3333333334623614\n",
      "-0.33333333338494453\n",
      "-0.33333333335397786\n",
      "-0.33333333334159115\n",
      "-0.33333333333663645\n",
      "-0.3333333333346546\n",
      "-0.33333333333386184\n",
      "-0.33333333333354476\n",
      "-0.3333333333334179\n",
      "-0.3333333333333672\n",
      "-0.33333333333334686\n",
      "-0.33333333333333875\n",
      "-0.33333333333333554\n",
      "-0.3333333333333342\n",
      "-0.33333333333333365\n",
      "-0.3333333333333335\n",
      "-0.33333333333333337\n",
      "-0.33333333333333337\n",
      "-0.33333333333333337\n",
      "-0.33333333333333337\n",
      "-0.33333333333333337\n",
      "-0.33333333333333337\n",
      "-0.33333333333333337\n",
      "-0.33333333333333337\n",
      "-0.33333333333333337\n",
      "-0.33333333333333337\n",
      "-0.33333333333333337\n",
      "-0.33333333333333337\n",
      "-0.33333333333333337\n",
      "-0.33333333333333337\n"
     ]
    }
   ],
   "source": [
    "def f(x):\n",
    "    return (6 * x) + 2   \n",
    "\n",
    "def gradientDescent(changeX, x):\n",
    "    for i in range(100):\n",
    "        changeX = x - (0.1) * f(x)\n",
    "        print(changeX)\n",
    "        x = changeX\n",
    "\n",
    "x = np.random.uniform(-sys.maxsize,sys.maxsize)\n",
    "changeX = 0;\n",
    "gradientDescent(changeX, x)"
   ]
  },
  {
   "cell_type": "code",
   "execution_count": null,
   "metadata": {},
   "outputs": [],
   "source": []
  }
 ],
 "metadata": {
  "kernelspec": {
   "display_name": "Python 3",
   "language": "python",
   "name": "python3"
  },
  "language_info": {
   "codemirror_mode": {
    "name": "ipython",
    "version": 3
   },
   "file_extension": ".py",
   "mimetype": "text/x-python",
   "name": "python",
   "nbconvert_exporter": "python",
   "pygments_lexer": "ipython3",
   "version": "3.8.5"
  }
 },
 "nbformat": 4,
 "nbformat_minor": 4
}
